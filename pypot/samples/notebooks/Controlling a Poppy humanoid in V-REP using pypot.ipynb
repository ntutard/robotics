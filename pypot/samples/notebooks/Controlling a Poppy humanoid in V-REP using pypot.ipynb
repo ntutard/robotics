{
 "metadata": {
  "name": "",
  "signature": "sha256:b44bcc61f3762ec3f793d4a2e05bc146fd51e09847e8a11eac69f147aade7321"
 },
 "nbformat": 3,
 "nbformat_minor": 0,
 "worksheets": [
  {
   "cells": [
    {
     "cell_type": "markdown",
     "metadata": {},
     "source": [
      "**TODO:**\n",
      "* le bon lien vers l'appendix\n"
     ]
    },
    {
     "cell_type": "heading",
     "level": 1,
     "metadata": {},
     "source": [
      "How-To: Control a Poppy Humanoid in V-REP using [pypot](https://github.com/poppy-project/pypot)"
     ]
    },
    {
     "cell_type": "markdown",
     "metadata": {},
     "source": [
      "![alt text](./vrep-header.png)"
     ]
    },
    {
     "cell_type": "heading",
     "level": 2,
     "metadata": {},
     "source": [
      "Introduction"
     ]
    },
    {
     "cell_type": "markdown",
     "metadata": {},
     "source": [
      "In this notebook, we will present how a simulated poppy humanoid can be controlled in real time using pypot."
     ]
    },
    {
     "cell_type": "markdown",
     "metadata": {},
     "source": [
      "In more details, we will:\n",
      "* see how we can **instantiate a simulated poppy humanoid in V-REP**\n",
      "* learn how we can **read/send values to the motors**\n",
      "* **track** one of poppy's part 3D **position and orientation** (e.g. its head)\n",
      "* write a **simple primitive** to design higher level behaviors"
     ]
    },
    {
     "cell_type": "markdown",
     "metadata": {},
     "source": [
      "*Note: Most of the tutorial is redundant with the ones on how to control a \"real\" poppy creature. In particular, switching from a real robot to a simulated one (and vice versa) can be done just by changing a single line of code (see the [appendix]() at the end of this notebook). Furthermore, most of the notebook can be applied to any \"pypot robot\", only the instantiation method will change.*"
     ]
    },
    {
     "cell_type": "heading",
     "level": 3,
     "metadata": {},
     "source": [
      "What's needed?"
     ]
    },
    {
     "cell_type": "markdown",
     "metadata": {},
     "source": [
      "To follow this tutorial you will need:\n",
      "\n",
      "* the [V-REP](http://www.coppeliarobotics.com) simulator\n",
      "* the python [pypot](https://github.com/poppy-project/pypot) library version >= 2.*\n",
      "* the [poppy_humanoid](https://github.com/poppy-project/Poppy-Humanoid) software library"
     ]
    },
    {
     "cell_type": "markdown",
     "metadata": {},
     "source": [
      "A [post](https://forum.poppy-project.org/t/howto-connect-pypot-to-your-simulated-version-of-poppy-humanoid-in-v-rep) detailling the steps needed to install all those dependencies can be found [here](https://forum.poppy-project.org/t/howto-connect-pypot-to-your-simulated-version-of-poppy-humanoid-in-v-rep)."
     ]
    },
    {
     "cell_type": "markdown",
     "metadata": {},
     "source": [
      "If the following code runs without raising an error, everything is probably installed correctly:"
     ]
    },
    {
     "cell_type": "code",
     "collapsed": false,
     "input": [
      "from pypot.vrep import from_vrep\n",
      "from poppy.creatures import PoppyHumanoid"
     ],
     "language": "python",
     "metadata": {},
     "outputs": [],
     "prompt_number": 1
    },
    {
     "cell_type": "heading",
     "level": 2,
     "metadata": {},
     "source": [
      "Instantiating a [Poppy Humanoid](https://www.poppy-project.org/creatures/poppy-humanoid/)"
     ]
    },
    {
     "cell_type": "markdown",
     "metadata": {},
     "source": [
      "In this section, we will see how a Poppy Humanoid can be instantiated into V-REP and how we can connect it to a [pypot Robot](http://poppy-project.github.io/pypot/pypot.robot.html)."
     ]
    },
    {
     "cell_type": "markdown",
     "metadata": {},
     "source": [
      "First, you will need to launch V-REP (please refer to [V-REP documentation](http://www.coppeliarobotics.com/helpFiles/index.html) if you don't know how to do it). Once it's done you should see something like:\n",
      "\n",
      "![alt text](./vrep-screenshot.png)"
     ]
    },
    {
     "cell_type": "markdown",
     "metadata": {},
     "source": [
      "Instead of loading a scene with a Poppy humanoid using V-REP GUI, we will directly instantiate the [PoppyHumanoid](https://github.com/poppy-project/Poppy-Humanoid) class which will do most of the work for us."
     ]
    },
    {
     "cell_type": "markdown",
     "metadata": {},
     "source": [
      "In particular, it will:\n",
      "* load a V-REP scene with a Poppy humanoid\n",
      "* instantiate a [pypot Robot](http://poppy-project.github.io/pypot/pypot.robot.html) and connect it to the simulated Poppy"
     ]
    },
    {
     "cell_type": "markdown",
     "metadata": {},
     "source": [
      "To do that, we will use the following code:"
     ]
    },
    {
     "cell_type": "code",
     "collapsed": false,
     "input": [
      "from poppy.creatures import PoppyHumanoid\n",
      "\n",
      "poppy = PoppyHumanoid(simulated='vrep', scene='poppy_sitting.ttt')"
     ],
     "language": "python",
     "metadata": {},
     "outputs": [],
     "prompt_number": 2
    },
    {
     "cell_type": "markdown",
     "metadata": {},
     "source": [
      "You should now see a Poppy in your V-REP window:\n",
      "\n",
      "![alt text](./vrep-poppy.png)"
     ]
    },
    {
     "cell_type": "heading",
     "level": 2,
     "metadata": {},
     "source": [
      "Controlling motors"
     ]
    },
    {
     "cell_type": "markdown",
     "metadata": {},
     "source": [
      "As soon as you have instantiated a [Robot](http://poppy-project.github.io/pypot/pypot.robot.html#pypot.robot.robot.Robot) - in our case through the [PoppyHumanoid](https://github.com/poppy-project/Poppy-Humanoid) class - it is synced with the simulation. This means that values from the V-REP simulation (e.g. limbs position) are retrieved and affected to their equivalent variables. Similarly target variables (e.g. motors goal position) are sent to V-REP. This synchronization loop runs at 50Hz by default."
     ]
    },
    {
     "cell_type": "markdown",
     "metadata": {},
     "source": [
      "To be more clear, when reading a variable from the *poppy* object you will obtain the last synced value from V-REP and when setting a new value to a *poppy* variable it will be automatically sent to V-REP a short time after. You never need to manually sync your instance with the current state of the simulation, it is automatically done by a thread running in background."
     ]
    },
    {
     "cell_type": "heading",
     "level": 3,
     "metadata": {},
     "source": [
      "Accessing motors registers"
     ]
    },
    {
     "cell_type": "markdown",
     "metadata": {},
     "source": [
      "So, first we will retrieve the list of all available motors. The [motors](http://poppy-project.github.io/pypot/pypot.robot.html#pypot.robot.robot.Robot.motors) variable contains the list of all motors attached to the current robot. \n",
      "\n",
      "By default, each motor prints its name and current position:"
     ]
    },
    {
     "cell_type": "code",
     "collapsed": false,
     "input": [
      "poppy.motors"
     ],
     "language": "python",
     "metadata": {},
     "outputs": [
      {
       "metadata": {},
       "output_type": "pyout",
       "prompt_number": 3,
       "text": [
        "[<DxlMotor name=l_elbow_y id=44 pos=0.0>,\n",
        " <DxlMotor name=r_elbow_y id=54 pos=0.0>,\n",
        " <DxlMotor name=r_knee_y id=24 pos=0.0>,\n",
        " <DxlMotor name=head_y id=37 pos=-10.0>,\n",
        " <DxlMotor name=head_z id=36 pos=0.0>,\n",
        " <DxlMotor name=r_arm_z id=53 pos=0.0>,\n",
        " <DxlMotor name=r_ankle_y id=25 pos=0.0>,\n",
        " <DxlMotor name=r_shoulder_x id=52 pos=-90.0>,\n",
        " <DxlMotor name=r_shoulder_y id=51 pos=-90>,\n",
        " <DxlMotor name=r_hip_z id=22 pos=0>,\n",
        " <DxlMotor name=r_hip_x id=21 pos=0.0>,\n",
        " <DxlMotor name=r_hip_y id=23 pos=0.0>,\n",
        " <DxlMotor name=l_arm_z id=43 pos=0.0>,\n",
        " <DxlMotor name=l_hip_x id=11 pos=0.0>,\n",
        " <DxlMotor name=l_hip_y id=13 pos=-2.0>,\n",
        " <DxlMotor name=l_hip_z id=12 pos=0>,\n",
        " <DxlMotor name=abs_x id=32 pos=0.0>,\n",
        " <DxlMotor name=abs_y id=31 pos=0.0>,\n",
        " <DxlMotor name=abs_z id=33 pos=0.0>,\n",
        " <DxlMotor name=l_ankle_y id=15 pos=0.0>,\n",
        " <DxlMotor name=bust_y id=34 pos=0.0>,\n",
        " <DxlMotor name=bust_x id=35 pos=0.0>,\n",
        " <DxlMotor name=l_knee_y id=14 pos=0.0>,\n",
        " <DxlMotor name=l_shoulder_x id=42 pos=90.0>,\n",
        " <DxlMotor name=l_shoulder_y id=41 pos=-90>]"
       ]
      }
     ],
     "prompt_number": 3
    },
    {
     "cell_type": "markdown",
     "metadata": {},
     "source": [
      "If we want to get the current position (in degrees) of a specific motor (e.g. *head_z*) we can use:"
     ]
    },
    {
     "cell_type": "code",
     "collapsed": false,
     "input": [
      "poppy.head_z.present_position"
     ],
     "language": "python",
     "metadata": {},
     "outputs": [
      {
       "metadata": {},
       "output_type": "pyout",
       "prompt_number": 4,
       "text": [
        "0.0"
       ]
      }
     ],
     "prompt_number": 4
    },
    {
     "cell_type": "markdown",
     "metadata": {},
     "source": [
      "Each motor can be accessed directly using its name:"
     ]
    },
    {
     "cell_type": "code",
     "collapsed": false,
     "input": [
      "poppy.l_shoulder_x"
     ],
     "language": "python",
     "metadata": {},
     "outputs": [
      {
       "metadata": {},
       "output_type": "pyout",
       "prompt_number": 5,
       "text": [
        "<DxlMotor name=l_shoulder_x id=42 pos=90.0>"
       ]
      }
     ],
     "prompt_number": 5
    },
    {
     "cell_type": "markdown",
     "metadata": {},
     "source": [
      "Or you can use the list/dict comprehension to retrieve a specific value for all motors."
     ]
    },
    {
     "cell_type": "markdown",
     "metadata": {},
     "source": [
      "A list of all current motor positions:"
     ]
    },
    {
     "cell_type": "code",
     "collapsed": false,
     "input": [
      "[m.present_position for m in poppy.motors]"
     ],
     "language": "python",
     "metadata": {},
     "outputs": [
      {
       "metadata": {},
       "output_type": "pyout",
       "prompt_number": 6,
       "text": [
        "[0.0,\n",
        " 0.0,\n",
        " 0.0,\n",
        " -10.0,\n",
        " 0.0,\n",
        " 0.0,\n",
        " 0.0,\n",
        " -90.0,\n",
        " -90,\n",
        " 0,\n",
        " 0.0,\n",
        " 0.0,\n",
        " 0.0,\n",
        " 0.0,\n",
        " -2.0,\n",
        " 0,\n",
        " 0.0,\n",
        " 0.0,\n",
        " 0.0,\n",
        " 0.0,\n",
        " 0.0,\n",
        " 0.0,\n",
        " 0.0,\n",
        " 90.0,\n",
        " -90]"
       ]
      }
     ],
     "prompt_number": 6
    },
    {
     "cell_type": "markdown",
     "metadata": {},
     "source": [
      "A dictionary of pairs {motor_name: motor_position}:"
     ]
    },
    {
     "cell_type": "code",
     "collapsed": false,
     "input": [
      "{m.name: m.present_position for m in poppy.motors}"
     ],
     "language": "python",
     "metadata": {},
     "outputs": [
      {
       "metadata": {},
       "output_type": "pyout",
       "prompt_number": 7,
       "text": [
        "{u'abs_x': 0.0,\n",
        " u'abs_y': 0.0,\n",
        " u'abs_z': 0.0,\n",
        " u'bust_x': 0.0,\n",
        " u'bust_y': 0.0,\n",
        " u'head_y': -10.0,\n",
        " u'head_z': 0.0,\n",
        " u'l_ankle_y': 0.0,\n",
        " u'l_arm_z': 0.0,\n",
        " u'l_elbow_y': 0.0,\n",
        " u'l_hip_x': 0.0,\n",
        " u'l_hip_y': -2.0,\n",
        " u'l_hip_z': 0,\n",
        " u'l_knee_y': 0.0,\n",
        " u'l_shoulder_x': 90.0,\n",
        " u'l_shoulder_y': -90,\n",
        " u'r_ankle_y': 0.0,\n",
        " u'r_arm_z': 0.0,\n",
        " u'r_elbow_y': 0.0,\n",
        " u'r_hip_x': 0.0,\n",
        " u'r_hip_y': 0.0,\n",
        " u'r_hip_z': 0,\n",
        " u'r_knee_y': 0.0,\n",
        " u'r_shoulder_x': -90.0,\n",
        " u'r_shoulder_y': -90}"
       ]
      }
     ],
     "prompt_number": 7
    },
    {
     "cell_type": "heading",
     "level": 3,
     "metadata": {},
     "source": [
      "Motor alias"
     ]
    },
    {
     "cell_type": "markdown",
     "metadata": {},
     "source": [
      "The motor variable is just one of the predefined motor alias - one with all attached motors. Poppy Humanoid also defines a *leg* alias, a *left arm* alias..."
     ]
    },
    {
     "cell_type": "markdown",
     "metadata": {},
     "source": [
      "You can retrieve the list of motor alias available using:"
     ]
    },
    {
     "cell_type": "code",
     "collapsed": false,
     "input": [
      "poppy.alias"
     ],
     "language": "python",
     "metadata": {},
     "outputs": [
      {
       "metadata": {},
       "output_type": "pyout",
       "prompt_number": 8,
       "text": [
        "[u'r_leg',\n",
        " u'torso',\n",
        " u'l_leg_sagitall',\n",
        " u'head',\n",
        " u'l_arm',\n",
        " u'r_leg_sagitall',\n",
        " u'l_leg',\n",
        " u'arms',\n",
        " u'legs',\n",
        " u'r_arm']"
       ]
      }
     ],
     "prompt_number": 8
    },
    {
     "cell_type": "markdown",
     "metadata": {},
     "source": [
      "Each alias contains a list of motors. Thus, you can similarly retrieve all positions for only the motors of the right leg:"
     ]
    },
    {
     "cell_type": "code",
     "collapsed": false,
     "input": [
      "{m.name: m.present_position for m in poppy.r_leg}"
     ],
     "language": "python",
     "metadata": {},
     "outputs": [
      {
       "metadata": {},
       "output_type": "pyout",
       "prompt_number": 9,
       "text": [
        "{u'r_ankle_y': 0.0,\n",
        " u'r_hip_x': 0.0,\n",
        " u'r_hip_y': 0.0,\n",
        " u'r_hip_z': 0,\n",
        " u'r_knee_y': 0.0}"
       ]
      }
     ],
     "prompt_number": 9
    },
    {
     "cell_type": "heading",
     "level": 3,
     "metadata": {},
     "source": [
      "Setting registers"
     ]
    },
    {
     "cell_type": "markdown",
     "metadata": {},
     "source": [
      "In a similar way, you can set a new target position to a motor."
     ]
    },
    {
     "cell_type": "markdown",
     "metadata": {},
     "source": [
      "By sending the following command, you should see the robot turns its head:"
     ]
    },
    {
     "cell_type": "code",
     "collapsed": false,
     "input": [
      "poppy.head_z.goal_position = 90."
     ],
     "language": "python",
     "metadata": {},
     "outputs": [],
     "prompt_number": 10
    },
    {
     "cell_type": "markdown",
     "metadata": {},
     "source": [
      "Or you can affect new target positions for a group of motors:"
     ]
    },
    {
     "cell_type": "code",
     "collapsed": false,
     "input": [
      "for m in poppy.l_arm:\n",
      "    m.goal_position = 45."
     ],
     "language": "python",
     "metadata": {},
     "outputs": [],
     "prompt_number": 11
    },
    {
     "cell_type": "markdown",
     "metadata": {},
     "source": [
      "It's important to note the difference between the current and goal position. In particular, when setting a new goal position, it will take time before the motor actually reaches the desired position (see section below for an example)."
     ]
    },
    {
     "cell_type": "markdown",
     "metadata": {},
     "source": [
      "Thus, in the code below only the second instruction will likely have an effect on the robot:"
     ]
    },
    {
     "cell_type": "code",
     "collapsed": false,
     "input": [
      "poppy.abs_z.goal_position = -45\n",
      "poppy.abs_z.goal_position = 45"
     ],
     "language": "python",
     "metadata": {},
     "outputs": [],
     "prompt_number": 12
    },
    {
     "cell_type": "markdown",
     "metadata": {},
     "source": [
      "*Note: While the full list of motor registers is available, most of them are not producing any effect in the V-REP simulation. For instance, modifying the pid of a motor won't affect the simulation. Support for additional features may be added in future version.*"
     ]
    },
    {
     "cell_type": "heading",
     "level": 3,
     "metadata": {},
     "source": [
      "Read and Write"
     ]
    },
    {
     "cell_type": "markdown",
     "metadata": {},
     "source": [
      "Let's prepare another example where we will illustrate the difference between present and goal position by applying a sinusoid on a specific motor."
     ]
    },
    {
     "cell_type": "markdown",
     "metadata": {},
     "source": [
      "To make sure the robot is in a \"correct\" position, we will reset the simulation. This will re-positioned the robot in its initial position:"
     ]
    },
    {
     "cell_type": "code",
     "collapsed": false,
     "input": [
      "poppy.reset_simulation()"
     ],
     "language": "python",
     "metadata": {},
     "outputs": [],
     "prompt_number": 13
    },
    {
     "cell_type": "markdown",
     "metadata": {},
     "source": [
      "Now let's make the robot's head moves:"
     ]
    },
    {
     "cell_type": "code",
     "collapsed": false,
     "input": [
      "import time\n",
      "\n",
      "import math\n",
      "\n",
      "amp = 30 # in degrees\n",
      "freq = 0.5 # in Hz\n",
      "\n",
      "t0 = time.time()\n",
      "\n",
      "while True:\n",
      "    t = time.time()\n",
      "    \n",
      "    # run for 10s\n",
      "    if t - t0 > 10:\n",
      "        break\n",
      "\n",
      "    poppy.head_z.goal_position = amp * math.sin(2 * 3.14 * freq * t)\n",
      "    \n",
      "    time.sleep(0.1)"
     ],
     "language": "python",
     "metadata": {},
     "outputs": [],
     "prompt_number": 14
    },
    {
     "cell_type": "markdown",
     "metadata": {},
     "source": [
      "Now we will use the same code but we will record both the current and goal position:"
     ]
    },
    {
     "cell_type": "code",
     "collapsed": false,
     "input": [
      "current, goal = [], []\n",
      "\n",
      "t0 = time.time()\n",
      "\n",
      "while True:\n",
      "    t = time.time()\n",
      "    \n",
      "    # run for 5s\n",
      "    if t - t0 > 5:\n",
      "        break\n",
      "\n",
      "    poppy.head_z.goal_position = amp * math.sin(2 * 3.14 * freq * t)\n",
      "\n",
      "    \n",
      "    current.append(poppy.head_z.present_position)\n",
      "    goal.append(poppy.head_z.goal_position)\n",
      "    \n",
      "    time.sleep(0.1)"
     ],
     "language": "python",
     "metadata": {},
     "outputs": [],
     "prompt_number": 15
    },
    {
     "cell_type": "markdown",
     "metadata": {},
     "source": [
      "If we plot the two trajectories, we can clearly see a time shift representing the time needed by the motor to reach the desired position: "
     ]
    },
    {
     "cell_type": "code",
     "collapsed": false,
     "input": [
      "%pylab inline\n",
      "\n",
      "t = linspace(0, 5, len(current))\n",
      "plot(t, goal)\n",
      "plot(t, current)\n",
      "\n",
      "legend(('goal', 'current'))"
     ],
     "language": "python",
     "metadata": {},
     "outputs": [
      {
       "output_type": "stream",
       "stream": "stdout",
       "text": [
        "Populating the interactive namespace from numpy and matplotlib\n"
       ]
      },
      {
       "metadata": {},
       "output_type": "pyout",
       "prompt_number": 16,
       "text": [
        "<matplotlib.legend.Legend at 0x113f45b50>"
       ]
      },
      {
       "metadata": {},
       "output_type": "display_data",
       "png": "[encoded data removed]",
       "text": [
        "<matplotlib.figure.Figure at 0x10f6be9d0>"
       ]
      }
     ],
     "prompt_number": 16
    },
    {
     "cell_type": "heading",
     "level": 2,
     "metadata": {},
     "source": [
      "Tracking objects"
     ]
    },
    {
     "cell_type": "code",
     "collapsed": false,
     "input": [
      "poppy.get_object_position('head_visual')"
     ],
     "language": "python",
     "metadata": {},
     "outputs": [
      {
       "metadata": {},
       "output_type": "pyout",
       "prompt_number": 17,
       "text": [
        "[-0.02671918086707592, -0.024636030197143555, 0.5391145944595337]"
       ]
      }
     ],
     "prompt_number": 17
    },
    {
     "cell_type": "heading",
     "level": 2,
     "metadata": {},
     "source": [
      "Using primitives"
     ]
    },
    {
     "cell_type": "code",
     "collapsed": false,
     "input": [],
     "language": "python",
     "metadata": {},
     "outputs": [],
     "prompt_number": 16
    },
    {
     "cell_type": "heading",
     "level": 1,
     "metadata": {},
     "source": [
      "Appendix: switching from a simulated poppy to a real one"
     ]
    },
    {
     "cell_type": "code",
     "collapsed": false,
     "input": [],
     "language": "python",
     "metadata": {},
     "outputs": [],
     "prompt_number": 16
    },
    {
     "cell_type": "code",
     "collapsed": false,
     "input": [],
     "language": "python",
     "metadata": {},
     "outputs": [],
     "prompt_number": 16
    }
   ],
   "metadata": {}
  }
 ]
}